{
  "nbformat": 4,
  "nbformat_minor": 0,
  "metadata": {
    "orig_nbformat": 2,
    "file_extension": ".py",
    "mimetype": "text/x-python",
    "name": "python",
    "npconvert_exporter": "python",
    "pygments_lexer": "ipython3",
    "version": 3,
    "colab": {
      "name": "Test.ipynb",
      "provenance": []
    },
    "kernelspec": {
      "name": "python3",
      "display_name": "Python 3"
    },
    "accelerator": "GPU"
  },
  "cells": [
    {
      "cell_type": "markdown",
      "metadata": {
        "colab_type": "text",
        "id": "Bi3ac-vwyInD"
      },
      "outputs": [],
      "source": [
        "# AutoKeras\n",
        "This notebook contains the experiments with autokeras, analyzing the quality and performance of the generated models and comparing them to handcrafted ones.\n",
        "\n",
        "Main questions:\n",
        "*   What does the structure of the generated networks look like?\n",
        "*   How is the quality compared to handmade nets?"
      ]
    },
    {
      "cell_type": "markdown",
      "metadata": {
        "colab_type": "text",
        "id": "6mxv9oNAzBCH"
      },
      "outputs": [],
      "source": [
        "## Packages and Imports\n",
        "The following section contains the packages that need to be installed and imported.\n",
        "\n",
        "In google colabs you have to restart the environment after installing the packages."
      ]
    },
    {
      "cell_type": "code",
      "execution_count": 0,
      "metadata": {
        "colab": {},
        "colab_type": "code",
        "id": "iY8ELHke3uYV"
      },
      "outputs": [],
      "source": [
        "!pip install autokeras # Version 0.4\n",
        "!pip install graphviz # For model visualization"
      ]
    },
    {
      "cell_type": "code",
      "execution_count": 3,
      "metadata": {
        "colab": {
          "base_uri": "https://localhost:8080/",
          "height": 34
        },
        "colab_type": "code",
        "id": "49OxVZOQvhIn",
        "outputId": "e3cddf6c-d1c1-4dd9-e531-e534158246cb"
      },
      "outputs": [],
      "source": [
        "import autokeras as ak\n",
        "import keras\n",
        "from autokeras.image.image_supervised import ImageClassifier"
      ]
    },
    {
      "cell_type": "code",
      "execution_count": 2,
      "metadata": {
        "colab": {
          "base_uri": "https://localhost:8080/",
          "height": 34
        },
        "colab_type": "code",
        "id": "LAbrvCgDvpj1",
        "outputId": "d9aaa462-8780-4ec4-caa7-1e04d751835a"
      },
      "outputs": [],
      "source": [
        "!python -V # Should output 3.6.* to work"
      ]
    },
    {
      "cell_type": "code",
      "execution_count": 3,
      "metadata": {
        "colab": {
          "base_uri": "https://localhost:8080/",
          "height": 1000
        },
        "colab_type": "code",
        "id": "KWmF0hcBvp_U",
        "outputId": "75ea92b1-2210-4ae7-87d4-5d3e5b39d0fd"
      },
      "outputs": [],
      "source": [
        "!pip list # Should contain autokeras and keras at least"
      ]
    },
    {
      "cell_type": "markdown",
      "metadata": {
        "colab_type": "text",
        "id": "k-fSBOL9zr_G"
      },
      "outputs": [],
      "source": [
        "## Data sets\n",
        "We now need to import data sets where the models to be compared are trained on."
      ]
    },
    {
      "cell_type": "code",
      "execution_count": 1,
      "metadata": {
        "colab": {
          "base_uri": "https://localhost:8080/",
          "height": 34
        },
        "colab_type": "code",
        "id": "Oh5lS3ubvbPh",
        "outputId": "f1905a28-06d4-4a1f-fef1-0fa280fd17ab"
      },
      "outputs": [],
      "source": [
        "# Load MNIST\n",
        "from keras.datasets import mnist\n",
        "(x_train, y_train), (x_test, y_test) = mnist.load_data()\n",
        "x_train = x_train.reshape(x_train.shape + (1,))\n",
        "x_test = x_test.reshape(x_test.shape + (1,))"
      ]
    },
    {
      "cell_type": "markdown",
      "metadata": {
        "colab_type": "text",
        "id": "oBwMJAfR0BI2"
      },
      "outputs": [],
      "source": [
        "## Create AutoKeras model"
      ]
    },
    {
      "cell_type": "code",
      "execution_count": 4,
      "metadata": {
        "colab": {
          "base_uri": "https://localhost:8080/",
          "height": 601
        },
        "colab_type": "code",
        "id": "oJmxgl67vbPj",
        "outputId": "84731cad-a3b8-4fda-8637-e0c2a4eb5d61"
      },
      "outputs": [],
      "source": [
        "# Search and train the classifier.\n",
        "clf = ImageClassifier(verbose=True)\n",
        "clf.fit(x_train, y_train, time_limit=12 * 60 * 60)\n",
        "clf.final_fit(x_train, y_train, x_test, y_test, retrain=True)\n",
        "y = clf.evaluate(x_test, y_test)\n",
        "print(y)"
      ]
    },
    {
      "cell_type": "markdown",
      "metadata": {
        "colab_type": "text",
        "id": "sS4sBlFK2BGo"
      },
      "outputs": [],
      "source": [
        "## Export model"
      ]
    },
    {
      "cell_type": "code",
      "execution_count": 0,
      "metadata": {
        "colab": {},
        "colab_type": "code",
        "id": "CLO7Ugft2DZA"
      },
      "outputs": [],
      "source": [
        "clf.export_autokeras_model(\"test_model.h5\")"
      ]
    },
    {
      "cell_type": "markdown",
      "metadata": {
        "colab_type": "text",
        "id": "8uw9rZQD2Otf"
      },
      "outputs": [],
      "source": [
        "## Load Model"
      ]
    },
    {
      "cell_type": "code",
      "execution_count": 0,
      "metadata": {
        "colab": {},
        "colab_type": "code",
        "id": "MrJwyzwG2MXp"
      },
      "outputs": [],
      "source": [
        "from autokeras.utils import pickle_from_file\n",
        "model = pickle_from_file(\"test_model.h5\")\n",
        "results = model.evaluate(x_test, y_test)\n",
        "print(results)"
      ]
    },
    {
      "cell_type": "markdown",
      "metadata": {
        "colab_type": "text",
        "id": "7VdLX7la1UCo"
      },
      "outputs": [],
      "source": [
        "## References\n",
        "https://autokeras.com/"
      ]
    }
  ]
}