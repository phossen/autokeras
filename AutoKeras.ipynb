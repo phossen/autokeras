{
  "nbformat": 4,
  "nbformat_minor": 0,
  "metadata": {
    "orig_nbformat": 2,
    "file_extension": ".py",
    "mimetype": "text/x-python",
    "name": "python",
    "npconvert_exporter": "python",
    "pygments_lexer": "ipython3",
    "version": 3,
    "colab": {
      "name": "Test.ipynb",
      "provenance": []
    },
    "kernelspec": {
      "name": "python3",
      "display_name": "Python 3"
    },
    "accelerator": "GPU"
  },
  "cells": [
    {
      "cell_type": "markdown",
      "metadata": {
        "colab_type": "text",
        "id": "Bi3ac-vwyInD"
      },
      "source": [
        "# AutoKeras (0.4)\n",
        "This notebook contains the experiments with AutoKeras, analyzing the quality and performance of the generated models and comparing them to handcrafted ones.\n",
        "\n",
        "Main questions:\n",
        "*   What does the structure of the generated networks look like?\n",
        "*   How is the quality compared to handmade nets?\n",
        "\n",
        "\"Auto-Keras is an open source software library for automated machine learning (AutoML). It is developed by DATA Lab at Texas A&M University and community contributors. The ultimate goal of AutoML is to provide easily accessible deep learning tools to domain experts with limited data science or machine learning background. Auto-Keras provides functions to automatically search for architecture and hyperparameters of deep learning models.\" - *autokeras.com*"
      ]
    },
    {
      "cell_type": "markdown",
      "metadata": {
        "colab_type": "text",
        "id": "6mxv9oNAzBCH"
      },
      "source": [
        "## Packages and Imports\n",
        "The following section contains the packages that need to be installed and imported.\n",
        "\n",
        "In google colab you have to **restart the environment** after installing autokeras."
      ]
    },
    {
      "cell_type": "code",
      "metadata": {
        "id": "esul44Nf4ss6",
        "colab_type": "code",
        "colab": {}
      },
      "source": [
        "!pip install autokeras==0.4.0 # Version 0.4"
      ],
      "execution_count": 0,
      "outputs": []
    },
    {
      "cell_type": "code",
      "metadata": {
        "colab_type": "code",
        "id": "LAbrvCgDvpj1",
        "colab": {}
      },
      "source": [
        "!python -V # Should output 3.6.* to work"
      ],
      "execution_count": 0,
      "outputs": []
    },
    {
      "cell_type": "code",
      "metadata": {
        "colab_type": "code",
        "id": "ojYaKiCp4UYA",
        "colab": {}
      },
      "source": [
        "import autokeras as ak\n",
        "from autokeras.image.image_supervised import ImageClassifier\n",
        "from autokeras.utils import pickle_from_file\n",
        "import keras\n",
        "import numpy as np\n",
        "from sklearn.model_selection import train_test_split\n",
        "import torch\n",
        "from google.colab import files"
      ],
      "execution_count": 0,
      "outputs": []
    },
    {
      "cell_type": "markdown",
      "metadata": {
        "id": "noHgWmt5URPr",
        "colab_type": "text"
      },
      "source": [
        "## Load data set\n",
        "In the following sections you can load the data set you are going to use to test AutoKeras. The training data is contained in `x_train` and `y_train`, while the test data is in `x_test` and `y_test`."
      ]
    },
    {
      "cell_type": "markdown",
      "metadata": {
        "colab_type": "text",
        "id": "PdB6pKeJ4UYE"
      },
      "source": [
        "### MNIST"
      ]
    },
    {
      "cell_type": "code",
      "metadata": {
        "colab_type": "code",
        "id": "uors7eXJ4UYG",
        "colab": {}
      },
      "source": [
        "from keras.datasets import mnist\n",
        "(x_train, y_train), (x_test, y_test) = mnist.load_data()\n",
        "x_train = x_train.reshape(x_train.shape + (1,))\n",
        "x_test = x_test.reshape(x_test.shape + (1,))\n",
        "data_set_name = \"mnist\""
      ],
      "execution_count": 0,
      "outputs": []
    },
    {
      "cell_type": "markdown",
      "metadata": {
        "id": "xSBvHYo8paA_",
        "colab_type": "text"
      },
      "source": [
        "### Breast Cancer"
      ]
    },
    {
      "cell_type": "code",
      "metadata": {
        "id": "jmFRpBnweJKx",
        "colab_type": "code",
        "colab": {}
      },
      "source": [
        "from sklearn.datasets import load_breast_cancer\n",
        "X, y = load_breast_cancer(return_X_y=True)\n",
        "x_train, x_test, y_train, y_test = train_test_split(X, y, test_size=0.15)\n",
        "x_train = x_train.reshape(x_train.shape + (1,))\n",
        "x_test = x_test.reshape(x_test.shape + (1,))\n",
        "data_set_name = \"breast_cancer\""
      ],
      "execution_count": 0,
      "outputs": []
    },
    {
      "cell_type": "markdown",
      "metadata": {
        "id": "A221MCQ5t52p",
        "colab_type": "text"
      },
      "source": [
        "### Iris"
      ]
    },
    {
      "cell_type": "code",
      "metadata": {
        "id": "KEFud8mwt9Ab",
        "colab_type": "code",
        "colab": {}
      },
      "source": [
        "from sklearn.datasets import load_iris\n",
        "X, y = load_iris(return_X_y=True)\n",
        "x_train, x_test, y_train, y_test = train_test_split(X, y, test_size=0.15)\n",
        "x_train = x_train.reshape(x_train.shape + (1,))\n",
        "x_test = x_test.reshape(x_test.shape + (1,))\n",
        "data_set_name = \"iris\""
      ],
      "execution_count": 0,
      "outputs": []
    },
    {
      "cell_type": "markdown",
      "metadata": {
        "colab_type": "text",
        "id": "_RzpmUvo4UYU"
      },
      "source": [
        "## Create AutoKeras model"
      ]
    },
    {
      "cell_type": "code",
      "metadata": {
        "colab_type": "code",
        "id": "9Nd-wKjU4UYV",
        "colab": {}
      },
      "source": [
        "%tensorflow_version 1.x\n",
        "# ImageClassifier\n",
        "clf = ImageClassifier(verbose=True, augment=True)\n",
        "clf.fit(x_train, y_train, time_limit=1 * 60 * 60) # 1 Hour\n",
        "clf.final_fit(x_train, y_train, x_test, y_test, retrain=False, trainer_args={'max_no_improvement_num': 5})"
      ],
      "execution_count": 0,
      "outputs": []
    },
    {
      "cell_type": "markdown",
      "metadata": {
        "colab_type": "text",
        "id": "fEijW2IK4UYe"
      },
      "source": [
        "### Export model"
      ]
    },
    {
      "cell_type": "code",
      "metadata": {
        "colab_type": "code",
        "id": "-8-yWj0D4UYf",
        "colab": {}
      },
      "source": [
        "clf.export_autokeras_model(data_set_name + \".pkl\")"
      ],
      "execution_count": 0,
      "outputs": []
    },
    {
      "cell_type": "code",
      "metadata": {
        "id": "nQPuvLb8Xd67",
        "colab_type": "code",
        "colab": {}
      },
      "source": [
        "# Download model\n",
        "files.download(data_set_name + \".pkl\")"
      ],
      "execution_count": 0,
      "outputs": []
    },
    {
      "cell_type": "markdown",
      "metadata": {
        "colab_type": "text",
        "id": "VbpMWOFS4UYj"
      },
      "source": [
        "### Load model"
      ]
    },
    {
      "cell_type": "code",
      "metadata": {
        "id": "O1njzIuiXncv",
        "colab_type": "code",
        "colab": {}
      },
      "source": [
        "# Upload model\n",
        "files.upload()"
      ],
      "execution_count": 0,
      "outputs": []
    },
    {
      "cell_type": "code",
      "metadata": {
        "colab_type": "code",
        "id": "x3kJkMGJ4UYk",
        "colab": {}
      },
      "source": [
        "clf = pickle_from_file(data_set_name + \".pkl\")"
      ],
      "execution_count": 0,
      "outputs": []
    },
    {
      "cell_type": "markdown",
      "metadata": {
        "id": "ig08ml9fPncK",
        "colab_type": "text"
      },
      "source": [
        "## Create model for comparison\n",
        "**Work in Progress**"
      ]
    },
    {
      "cell_type": "code",
      "metadata": {
        "id": "BkrxcQtHVuVr",
        "colab_type": "code",
        "colab": {}
      },
      "source": [
        "# Comparison model for MNIST\n",
        "from keras import Sequential\n",
        "from keras.layers import *\n",
        "from keras.optimizers import Adam\n",
        "from keras.losses import mean_squared_error\n",
        "\n",
        "model = Sequential()\n",
        "model.add(Conv2D(32, kernel_size=(3, 3),\n",
        "                 activation='relu',\n",
        "                 input_shape=x_train[0].shape))\n",
        "model.add(Conv2D(64, (3, 3), activation='relu'))\n",
        "model.add(MaxPooling2D(pool_size=(2, 2)))\n",
        "model.add(Dropout(0.25))\n",
        "model.add(Flatten())\n",
        "model.add(Dense(128, activation='relu'))\n",
        "model.add(Dropout(0.5))\n",
        "model.add(Dense(10, activation='softmax'))\n",
        "model.compile(optimizer=Adam(), loss=mean_squared_error)"
      ],
      "execution_count": 0,
      "outputs": []
    },
    {
      "cell_type": "code",
      "metadata": {
        "id": "rGZjFYhcXQkS",
        "colab_type": "code",
        "colab": {}
      },
      "source": [
        "model_log = model.fit(x_train, y_train,\n",
        "          batch_size=128,\n",
        "          epochs=10,\n",
        "          verbose=1)"
      ],
      "execution_count": 0,
      "outputs": []
    },
    {
      "cell_type": "code",
      "metadata": {
        "id": "_QSMlQ_wXVE8",
        "colab_type": "code",
        "colab": {}
      },
      "source": [
        "score = model.evaluate(x_test, y_test, verbose=0)\n",
        "print('Test loss:', score[0])\n",
        "print('Test accuracy:', score[1])"
      ],
      "execution_count": 0,
      "outputs": []
    },
    {
      "cell_type": "markdown",
      "metadata": {
        "id": "Fh8RjakbaUyM",
        "colab_type": "text"
      },
      "source": [
        "## Visualize and Evaluate\n",
        "The visualization is still an ugly workaround, but it works."
      ]
    },
    {
      "cell_type": "code",
      "metadata": {
        "id": "T6Zn3_n70-2i",
        "colab_type": "code",
        "colab": {}
      },
      "source": [
        "# Evaluate model\n",
        "print(clf.evaluate(x_test, y_test))"
      ],
      "execution_count": 0,
      "outputs": []
    },
    {
      "cell_type": "code",
      "metadata": {
        "id": "u71sI_hoZft7",
        "colab_type": "code",
        "colab": {}
      },
      "source": [
        "torch_model = clf.cnn.best_model.produce_model() # For trained model\n",
        "#torch_model = clf.graph.produce_model() # For portable models that got imported"
      ],
      "execution_count": 0,
      "outputs": []
    },
    {
      "cell_type": "code",
      "metadata": {
        "id": "0FJBmADKPE82",
        "colab_type": "code",
        "colab": {}
      },
      "source": [
        "# Print model structure\n",
        "torch_model"
      ],
      "execution_count": 0,
      "outputs": []
    },
    {
      "cell_type": "code",
      "metadata": {
        "id": "V_5o3xRGPSSq",
        "colab_type": "code",
        "colab": {}
      },
      "source": [
        "# Save and download PyTorch model\n",
        "torch.save(torch_model, data_set_name + \".pth\")\n",
        "files.download(data_set_name + \".pth\")"
      ],
      "execution_count": 0,
      "outputs": []
    },
    {
      "cell_type": "markdown",
      "metadata": {
        "id": "knAhUs0CP2rQ",
        "colab_type": "text"
      },
      "source": [
        "Subsequently use [this website](https://lutzroeder.github.io/netron/) to visualize the model."
      ]
    },
    {
      "cell_type": "markdown",
      "metadata": {
        "colab_type": "text",
        "id": "-quWTtdN4UY7"
      },
      "source": [
        "## References\n",
        "https://autokeras.com/"
      ]
    }
  ]
}